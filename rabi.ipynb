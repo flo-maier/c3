{
 "cells": [
  {
   "cell_type": "code",
   "execution_count": 1,
   "metadata": {
    "collapsed": true
   },
   "outputs": [
    {
     "name": "stdout",
     "output_type": "stream",
     "text": [
      "True\n"
     ]
    }
   ],
   "source": [
    "%load_ext autoreload\n",
    "%autoreload 2\n",
    "# System imports\n",
    "import copy\n",
    "import numpy as np\n",
    "import time\n",
    "import itertools\n",
    "import os\n",
    "import tempfile\n",
    "import matplotlib.pyplot as plt\n",
    "import tensorflow as tf\n",
    "import tensorflow_probability as tfp\n",
    "\n",
    "# Main C3 objects\n",
    "from c3.c3objs import Quantity as Qty\n",
    "from c3.parametermap import ParameterMap as PMap\n",
    "from c3.experiment import Experiment as Exp\n",
    "from c3.system.model import Model as Mdl\n",
    "from c3.generator.generator import Generator as Gnr\n",
    "\n",
    "# Building blocks\n",
    "import c3.generator.devices as devices\n",
    "import c3.signal.gates as gates\n",
    "import c3.system.chip as chip\n",
    "import c3.signal.pulse as pulse\n",
    "import c3.system.tasks as tasks\n",
    "\n",
    "# Libs and helpers\n",
    "import c3.libraries.algorithms as algorithms\n",
    "import c3.libraries.hamiltonians as hamiltonians\n",
    "import c3.libraries.fidelities as fidelities\n",
    "import c3.libraries.envelopes as envelopes\n",
    "import c3.utils.qt_utils as qt_utils\n",
    "import c3.utils.tf_utils as tf_utils\n",
    "import examples.two_qubit_chip_exp\n",
    "import examples.single_qubit_rabi12\n",
    "import useful\n",
    "from scipy.optimize import minimize_scalar\n",
    "from c3.optimizers.c1 import C1\n",
    "import c3.libraries.algorithms as algorithms\n",
    "\n",
    "#%matplotlib inline\n",
    "#import mpld3\n",
    "#mpld3.enable_notebook()\n",
    "\n",
    "import matplotlib\n",
    "import time\n",
    "\n",
    "#tf.compat.v1.disable_eager_execution()\n",
    "#tf.compat.v1.enable_eager_execution\n",
    "#tf.config.run_functions_eagerly(True)\n",
    "print(tf.executing_eagerly())"
   ]
  },
  {
   "cell_type": "code",
   "execution_count": null,
   "outputs": [],
   "source": [
    "exp = examples.single_qubit_rabi12.create_experiment()\n",
    "exp2 = examples.single_qubit_rabi12.create_experiment(gatetime=20e-9, anhar=-1e7)"
   ],
   "metadata": {
    "collapsed": false,
    "pycharm": {
     "name": "#%%\n",
     "is_executing": true
    }
   }
  },
  {
   "cell_type": "code",
   "execution_count": 3,
   "outputs": [
    {
     "name": "stdout",
     "output_type": "stream",
     "text": [
      "tf.Tensor(\n",
      "[[1.+0.j]\n",
      " [0.+0.j]\n",
      " [0.+0.j]], shape=(3, 1), dtype=complex128)\n"
     ]
    }
   ],
   "source": [
    "psi_init = [[0] * 3]\n",
    "psi_init[0][0] = 1\n",
    "\n",
    "init_state = tf.transpose(tf.constant(psi_init, tf.complex128))\n",
    "print(init_state)\n",
    "pi01_seq = ['PI01p']\n",
    "rx90_seq = ['RX90p']\n",
    "rx_seq = ['RXp']\n",
    "rabi12_seq = ['RXp','RXp12','Id']"
   ],
   "metadata": {
    "collapsed": false,
    "pycharm": {
     "name": "#%%\n"
    }
   }
  },
  {
   "cell_type": "code",
   "execution_count": 4,
   "outputs": [],
   "source": [
    "#TODO change amplitude gauss here in loop\n",
    "\n",
    "amps = np.arange(0.1,1,1)"
   ],
   "metadata": {
    "collapsed": false,
    "pycharm": {
     "name": "#%%\n"
    }
   }
  },
  {
   "cell_type": "code",
   "source": [
    "for amp in amps:\n",
    "    exp.change_pi_amp(amp)\n",
    "    exp.get_gates()\n",
    "    t,pop = useful.plot_dynamics(exp, init_state, pi01_seq)\n",
    "    print(pop[-1])"
   ],
   "metadata": {
    "collapsed": false,
    "pycharm": {
     "name": "#%%\n"
    }
   },
   "execution_count": 6,
   "outputs": [
    {
     "ename": "KeyError",
     "evalue": "'PI01p'",
     "output_type": "error",
     "traceback": [
      "\u001B[1;31m---------------------------------------------------------------------------\u001B[0m",
      "\u001B[1;31mKeyError\u001B[0m                                  Traceback (most recent call last)",
      "\u001B[1;32m<ipython-input-6-2dde74ea5fe3>\u001B[0m in \u001B[0;36m<module>\u001B[1;34m\u001B[0m\n\u001B[0;32m      1\u001B[0m \u001B[1;32mfor\u001B[0m \u001B[0mamp\u001B[0m \u001B[1;32min\u001B[0m \u001B[0mamps\u001B[0m\u001B[1;33m:\u001B[0m\u001B[1;33m\u001B[0m\u001B[1;33m\u001B[0m\u001B[0m\n\u001B[1;32m----> 2\u001B[1;33m     \u001B[0mexp\u001B[0m\u001B[1;33m.\u001B[0m\u001B[0mchange_pi_amp\u001B[0m\u001B[1;33m(\u001B[0m\u001B[0mamp\u001B[0m\u001B[1;33m)\u001B[0m\u001B[1;33m\u001B[0m\u001B[1;33m\u001B[0m\u001B[0m\n\u001B[0m\u001B[0;32m      3\u001B[0m     \u001B[0mexp\u001B[0m\u001B[1;33m.\u001B[0m\u001B[0mget_gates\u001B[0m\u001B[1;33m(\u001B[0m\u001B[1;33m)\u001B[0m\u001B[1;33m\u001B[0m\u001B[1;33m\u001B[0m\u001B[0m\n\u001B[0;32m      4\u001B[0m     \u001B[0mt\u001B[0m\u001B[1;33m,\u001B[0m\u001B[0mpop\u001B[0m \u001B[1;33m=\u001B[0m \u001B[0museful\u001B[0m\u001B[1;33m.\u001B[0m\u001B[0mplot_dynamics\u001B[0m\u001B[1;33m(\u001B[0m\u001B[0mexp\u001B[0m\u001B[1;33m,\u001B[0m \u001B[0minit_state\u001B[0m\u001B[1;33m,\u001B[0m \u001B[0mpi01_seq\u001B[0m\u001B[1;33m)\u001B[0m\u001B[1;33m\u001B[0m\u001B[1;33m\u001B[0m\u001B[0m\n\u001B[0;32m      5\u001B[0m     \u001B[0mprint\u001B[0m\u001B[1;33m(\u001B[0m\u001B[0mpop\u001B[0m\u001B[1;33m[\u001B[0m\u001B[1;33m-\u001B[0m\u001B[1;36m1\u001B[0m\u001B[1;33m]\u001B[0m\u001B[1;33m)\u001B[0m\u001B[1;33m\u001B[0m\u001B[1;33m\u001B[0m\u001B[0m\n",
      "\u001B[1;32m~\\PycharmProjects\\c3\\c3\\experiment.py\u001B[0m in \u001B[0;36mchange_pi_amp\u001B[1;34m(self, amp)\u001B[0m\n\u001B[0;32m    709\u001B[0m         \u001B[0mPI01p\u001B[0m \u001B[1;33m=\u001B[0m \u001B[0mgates\u001B[0m\u001B[1;33m.\u001B[0m\u001B[0mInstruction\u001B[0m\u001B[1;33m(\u001B[0m\u001B[0mname\u001B[0m\u001B[1;33m=\u001B[0m\u001B[1;34m\"PI01p\"\u001B[0m\u001B[1;33m,\u001B[0m \u001B[0mt_start\u001B[0m\u001B[1;33m=\u001B[0m\u001B[1;36m0.0\u001B[0m\u001B[1;33m,\u001B[0m \u001B[0mt_end\u001B[0m\u001B[1;33m=\u001B[0m\u001B[0mt_final\u001B[0m\u001B[1;33m,\u001B[0m \u001B[0mchannels\u001B[0m\u001B[1;33m=\u001B[0m\u001B[1;33m[\u001B[0m\u001B[1;34m\"d1\"\u001B[0m\u001B[1;33m]\u001B[0m\u001B[1;33m)\u001B[0m\u001B[1;33m\u001B[0m\u001B[1;33m\u001B[0m\u001B[0m\n\u001B[0;32m    710\u001B[0m         \u001B[0mPI01p\u001B[0m\u001B[1;33m.\u001B[0m\u001B[0madd_component\u001B[0m\u001B[1;33m(\u001B[0m\u001B[0mgauss_env_pi\u001B[0m\u001B[1;33m,\u001B[0m \u001B[1;34m\"d1\"\u001B[0m\u001B[1;33m)\u001B[0m\u001B[1;33m\u001B[0m\u001B[1;33m\u001B[0m\u001B[0m\n\u001B[1;32m--> 711\u001B[1;33m         \u001B[0mPI01p\u001B[0m\u001B[1;33m.\u001B[0m\u001B[0madd_component\u001B[0m\u001B[1;33m(\u001B[0m\u001B[0mself\u001B[0m\u001B[1;33m.\u001B[0m\u001B[0mpmap\u001B[0m\u001B[1;33m.\u001B[0m\u001B[0minstructions\u001B[0m\u001B[1;33m[\u001B[0m\u001B[1;34m'PI01p'\u001B[0m\u001B[1;33m]\u001B[0m\u001B[1;33m.\u001B[0m\u001B[0mcomps\u001B[0m\u001B[1;33m[\u001B[0m\u001B[1;34m'd1'\u001B[0m\u001B[1;33m]\u001B[0m\u001B[1;33m[\u001B[0m\u001B[1;34m'carrier'\u001B[0m\u001B[1;33m]\u001B[0m\u001B[1;33m,\u001B[0m \u001B[1;34m\"d1\"\u001B[0m\u001B[1;33m)\u001B[0m  \u001B[1;31m#reuse carrier\u001B[0m\u001B[1;33m\u001B[0m\u001B[1;33m\u001B[0m\u001B[0m\n\u001B[0m\u001B[0;32m    712\u001B[0m \u001B[1;33m\u001B[0m\u001B[0m\n\u001B[0;32m    713\u001B[0m         \u001B[0mself\u001B[0m\u001B[1;33m.\u001B[0m\u001B[0mpmap\u001B[0m\u001B[1;33m.\u001B[0m\u001B[0minstructions\u001B[0m\u001B[1;33m[\u001B[0m\u001B[1;34m'PI01p'\u001B[0m\u001B[1;33m]\u001B[0m \u001B[1;33m=\u001B[0m \u001B[0mPI01p\u001B[0m\u001B[1;33m\u001B[0m\u001B[1;33m\u001B[0m\u001B[0m\n",
      "\u001B[1;31mKeyError\u001B[0m: 'PI01p'"
     ]
    }
   ]
  },
  {
   "cell_type": "code",
   "execution_count": null,
   "outputs": [],
   "source": [
    "exp.get_gates()\n",
    "_,_ = useful.plot_dynamics(exp, init_state, rabi12_seq)\n"
   ],
   "metadata": {
    "collapsed": false,
    "pycharm": {
     "name": "#%%\n"
    }
   }
  },
  {
   "cell_type": "code",
   "execution_count": null,
   "outputs": [],
   "source": [
    "exp.pmap.instructions['Id'].t_end"
   ],
   "metadata": {
    "collapsed": false,
    "pycharm": {
     "name": "#%%\n"
    }
   }
  },
  {
   "cell_type": "code",
   "execution_count": null,
   "outputs": [],
   "source": [
    "exp.evaluate([pi01_seq],init_state)"
   ],
   "metadata": {
    "collapsed": false,
    "pycharm": {
     "name": "#%%\n"
    }
   }
  },
  {
   "cell_type": "markdown",
   "source": [
    "Optimize RXp"
   ],
   "metadata": {
    "collapsed": false
   }
  },
  {
   "cell_type": "code",
   "execution_count": null,
   "outputs": [],
   "source": [
    "opt_gates = [\"RXp\"]\n",
    "gateset_opt_map=[\n",
    "    [\n",
    "      (\"RXp\", \"d1\", \"gauss\", \"amp\"),\n",
    "    ],\n",
    "    [\n",
    "      (\"RXp\", \"d1\", \"gauss\", \"freq_offset\"),\n",
    "    ],\n",
    "    [\n",
    "      (\"RXp\", \"d1\", \"gauss\", \"xy_angle\"),\n",
    "    ],\n",
    "    [\n",
    "      (\"RXp\", \"d1\", \"gauss\", \"delta\"),\n",
    "    ]\n",
    "]\n",
    "log_dir = os.path.join(tempfile.TemporaryDirectory().name, \"c3logs\")\n",
    "\n",
    "opt = C1(\n",
    "    dir_path=log_dir,\n",
    "    fid_func=fidelities.average_infid_set,\n",
    "    fid_subspace=[\"Q1\"],\n",
    "    pmap=exp.pmap,\n",
    "    algorithm=algorithms.lbfgs,\n",
    "    options={\"maxfun\" : 10},\n",
    "    run_name=\"better_RX\"\n",
    ")\n",
    "exp.pmap.set_opt_map(gateset_opt_map)\n",
    "exp.set_opt_gates(opt_gates)\n",
    "opt.set_exp(exp)\n",
    "\n",
    "opt.optimize_controls()\n",
    "print(opt.current_best_params)\n",
    "print(opt.current_best_goal)\n"
   ],
   "metadata": {
    "collapsed": false,
    "pycharm": {
     "name": "#%%\n"
    }
   }
  },
  {
   "cell_type": "markdown",
   "source": [
    "After opt"
   ],
   "metadata": {
    "collapsed": false,
    "pycharm": {
     "name": "#%% md\n"
    }
   }
  },
  {
   "cell_type": "code",
   "source": [
    "_,_ = useful.plot_dynamics(exp, init_state, rabi12_seq)"
   ],
   "metadata": {
    "collapsed": false,
    "pycharm": {
     "name": "#%%\n"
    }
   },
   "execution_count": null,
   "outputs": []
  },
  {
   "cell_type": "markdown",
   "source": [
    "Rabi 12\n"
   ],
   "metadata": {
    "collapsed": false,
    "pycharm": {
     "name": "#%% md\n"
    }
   }
  },
  {
   "cell_type": "code",
   "execution_count": null,
   "outputs": [],
   "source": [
    "amps12 = np.arange(0.1,2.1,0.1)\n",
    "pops = np.zeros((len(amps12),3))"
   ],
   "metadata": {
    "collapsed": false,
    "pycharm": {
     "name": "#%%\n"
    }
   }
  },
  {
   "cell_type": "code",
   "execution_count": null,
   "outputs": [],
   "source": [
    "exp.set_opt_gates(['RXp','RXp12','Id'])\n",
    "for count, amp in enumerate(amps12):\n",
    "    exp.change_pi12_amp(amp)\n",
    "    exp.get_gates()\n",
    "    pops[count] = np.array(exp.evaluate([rabi12_seq],init_state))[0].T\n",
    "\n",
    "\n"
   ],
   "metadata": {
    "collapsed": false,
    "pycharm": {
     "name": "#%%\n"
    }
   }
  },
  {
   "cell_type": "code",
   "execution_count": null,
   "outputs": [],
   "source": [
    "useful.plot_rabi12(pops,amps12)\n"
   ],
   "metadata": {
    "collapsed": false,
    "pycharm": {
     "name": "#%%\n"
    }
   }
  },
  {
   "cell_type": "code",
   "execution_count": null,
   "outputs": [],
   "source": [],
   "metadata": {
    "collapsed": false,
    "pycharm": {
     "name": "#%%\n"
    }
   }
  }
 ],
 "metadata": {
  "kernelspec": {
   "name": "pycharm-4d74771e",
   "language": "python",
   "display_name": "PyCharm (Measurements)"
  },
  "language_info": {
   "codemirror_mode": {
    "name": "ipython",
    "version": 2
   },
   "file_extension": ".py",
   "mimetype": "text/x-python",
   "name": "python",
   "nbconvert_exporter": "python",
   "pygments_lexer": "ipython2",
   "version": "2.7.6"
  }
 },
 "nbformat": 4,
 "nbformat_minor": 0
}